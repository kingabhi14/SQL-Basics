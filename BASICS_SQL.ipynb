{
  "nbformat": 4,
  "nbformat_minor": 0,
  "metadata": {
    "colab": {
      "provenance": []
    },
    "kernelspec": {
      "name": "python3",
      "display_name": "Python 3"
    },
    "language_info": {
      "name": "python"
    }
  },
  "cells": [
    {
      "cell_type": "markdown",
      "source": [
        "#BASICS SQL ASSIGNMENTS QUESTIONS:"
      ],
      "metadata": {
        "id": "s4M6EeBVfVVy"
      }
    },
    {
      "cell_type": "markdown",
      "source": [
        "Q1.Create a table called employees with the following structure?\n",
        "\n",
        ": emp_id (integer, should not be NULL and should be a primary key)\n",
        "\n",
        ": emp_name (text, should not be NULL)\n",
        "\n",
        ": age (integer, should have a check constraint to ensure the age is at least 18)\n",
        "\n",
        ": email (text, should be unique for each employee)\n",
        "\n",
        ": salary (decimal, with a default value of 30,000).\n",
        "\n",
        "Write the SQL query to create the above table with all constraints.\n"
      ],
      "metadata": {
        "id": "XHR0rsw-fn5Z"
      }
    },
    {
      "cell_type": "code",
      "source": [
        "CREATE TABLE employees (\n",
        "    emp_id INTEGER NOT NULL PRIMARY KEY,\n",
        "    emp_name TEXT NOT NULL,\n",
        "    age INTEGER CHECK (age >= 18),\n",
        "    email TEXT UNIQUE,\n",
        "    salary DECIMAL DEFAULT 30000)\n",
        "\n"
      ],
      "metadata": {
        "id": "_o8EqPzFg3Ta"
      },
      "execution_count": null,
      "outputs": []
    },
    {
      "cell_type": "markdown",
      "source": [
        "Q2.. Explain the purpose of constraints and how they help maintain data integrity in a database. Provide\n",
        "examples of common types of constraints.\n",
        "\n",
        ".Constraints help enforce rules at the database level, preventing the entry of invalid data and ensuring data accuracy and reliability. Implementing various types of constraints such as primary key, foreign key, unique, not null, check, and default constraints is crucial for upholding data quality.\n",
        "\n",
        "Entity integrity constraints are used to maintain the accuracy and consistency of data within a database by ensuring that each record is unique and that no duplicate records exist."
      ],
      "metadata": {
        "id": "wRicIuaDhaM6"
      }
    },
    {
      "cell_type": "markdown",
      "source": [
        "Q3..Why would you apply the NOT NULL constraint to a column? Can a primary key contain NULL values? Justify\n",
        "your answer.\n",
        "\n",
        ".You apply the NOT NULL constraint to a column to ensure that every record in that column contains a value and not a NULL value, which is essential for maintaining data integrity and consistency. A primary key, by definition, cannot contain NULL values because it needs to uniquely identify each row, and NULL values would violate this uniqueness requirement."
      ],
      "metadata": {
        "id": "r8XycQtgkluD"
      }
    },
    {
      "cell_type": "markdown",
      "source": [
        "Q4. Explain the steps and SQL commands used to add or remove constraints on an existing table. Provide an\n",
        "example for both adding and removing a constraint.\n",
        "\n",
        ".If we want to remove a constraint from a table, we can run the following command: ALTER TABLE table DROP CONSTRAINT constraint_name; To drop a constraint, we need to specify its name. In CockroachDB, we can easily find the name of a specific constraint by running SHOW CONSTRAINTS FROM table_name; .\n",
        "\n",
        "For example, to add a unique constraint to the fname and lname columns of the customer table, use the following statement: ALTER TABLE customer ADD CONSTRAINT UNIQUE (lname, fname);"
      ],
      "metadata": {
        "id": "BfxTFqp4k_h7"
      }
    },
    {
      "cell_type": "markdown",
      "source": [
        "Q5. Explain the consequences of attempting to insert, update, or delete data in a way that violates constraints.\n",
        "Provide an example of an error message that might occur when violating a constraint.\n",
        "\n",
        ".Attempting to insert, update, or delete data that violates database constraints will result in the operation failing and generating an error message, preventing data inconsistencies and maintaining data integrity.\n",
        "\n",
        "Here's a breakdown;\n",
        "\n",
        "Consequences of Constraint Violations:\n",
        "\n",
        "Operation Failure:\n",
        "\n",
        "The database will reject the attempted insert, update, or delete operation if it violates any defined constraints.\n",
        "\n",
        "Data Integrity:\n",
        "\n",
        "Constraints are designed to enforce rules and ensure data accuracy and consistency within the database. Violating them would lead to data corruption or inconsistencies.\n",
        "\n",
        "Error Messages:\n",
        "\n",
        "The database system will typically return an error message indicating the nature of the constraint violation.\n",
        "\n",
        "Types of Constraints and Examples:\n",
        "\n",
        "Primary Key:\n",
        "\n",
        "A primary key constraint ensures that a column or set of columns uniquely identifies each row in a table.\n",
        "Example: If you try to insert a new row with the same primary key value as an existing row, you'll get an error.\n",
        "\n",
        "Foreign Key:\n",
        "\n",
        "A foreign key constraint establishes a relationship between two tables by referencing the primary key of another table.\n",
        "Example: If you try to insert a value into a foreign key column that doesn't exist in the primary key column of the related table, you'll get an error.\n",
        "Unique:\n",
        "\n",
        "A unique constraint ensures that a column or set of columns contains only unique values.\n",
        "\n",
        "Example: If you try to insert a value into a unique column that already exists, you'll get an error.\n",
        "\n"
      ],
      "metadata": {
        "id": "wFvZafiilkUM"
      }
    },
    {
      "cell_type": "markdown",
      "source": [
        "Q6.You created a products table without constraints as follows:\n",
        "\n",
        "CREATE TABLE products (\n",
        "\n",
        "    product_id INT,\n",
        "\n",
        "    product_name VARCHAR(50),\n",
        "\n",
        "    price DECIMAL(10, 2));\n",
        "Now, you realise that?\n",
        ": The product_id should be a primary key\n",
        ": The price should have a default value of 50.00\n",
        "\n",
        "\n",
        "."
      ],
      "metadata": {
        "id": "zRRq9O3smdYb"
      }
    },
    {
      "cell_type": "code",
      "source": [
        "ALTER TABLE products\n",
        "ADD CONSTRAINT pk_product_id PRIMARY KEY (product_id);\n",
        "\n",
        "ALTER TABLE products\n",
        "ALTER COLUMN price SET DEFAULT 50.00;\n"
      ],
      "metadata": {
        "id": "XvCzN42wnJ5K"
      },
      "execution_count": null,
      "outputs": []
    },
    {
      "cell_type": "markdown",
      "source": [
        "Q7.Write a query to fetch the student_name and class_name for each student using an INNER JOIN.\n",
        "\n",
        ".\n",
        "\n"
      ],
      "metadata": {
        "id": "EKLzBZzPnX77"
      }
    },
    {
      "cell_type": "code",
      "source": [
        "SELECT Students.student_name, Classes.class_name\n",
        "FROM Students\n",
        "INNER JOIN Classes ON Students.class_id = Classes.class_id;\n"
      ],
      "metadata": {
        "id": "tFQFRSBPq7tj"
      },
      "execution_count": null,
      "outputs": []
    },
    {
      "cell_type": "markdown",
      "source": [
        "Q8.Write a query that shows all order_id, customer_name, and product_name, ensuring that all products are\n",
        "listed even if they are not associated with an order\n",
        "\n",
        "Hint: (use INNER JOIN and LEFT JOIN)\n"
      ],
      "metadata": {
        "id": "20oIphDFpsrU"
      }
    },
    {
      "cell_type": "code",
      "source": [
        "SELECT Orders.order_id, Customers.customer_name, Products.product_name\n",
        "FROM Products\n",
        "LEFT JOIN Orders ON Products.order_id = Orders.order_id\n",
        "LEFT JOIN Customers ON Orders.customer_id = Customers.customer_id;\n"
      ],
      "metadata": {
        "id": "l8pTnS15qx07"
      },
      "execution_count": null,
      "outputs": []
    },
    {
      "cell_type": "markdown",
      "source": [
        "Q9.Write a query to find the total sales amount for each product using an INNER JOIN and the SUM() function."
      ],
      "metadata": {
        "id": "e9lKkxuCrEVk"
      }
    },
    {
      "cell_type": "code",
      "source": [
        "SELECT Products.product_name, SUM(Sales.amount) AS total_sales\n",
        "FROM Sales\n",
        "INNER JOIN Products ON Sales.product_id = Products.product_id\n",
        "GROUP BY Products.product_name;\n"
      ],
      "metadata": {
        "id": "w9KcM2XorO97"
      },
      "execution_count": null,
      "outputs": []
    },
    {
      "cell_type": "markdown",
      "source": [
        "Q1O.Write a query to display the order_id, customer_name, and the quantity of products ordered by each\n",
        "customer using an INNER JOIN between all three tables.\n"
      ],
      "metadata": {
        "id": "dMGw9kHLrvnE"
      }
    },
    {
      "cell_type": "code",
      "source": [
        "SELECT Orders.order_id, Customers.customer_name, SUM(Order_Details.quantity) AS total_quantity\n",
        "FROM Orders\n",
        "INNER JOIN Customers ON Orders.customer_id = Customers.customer_id\n",
        "INNER JOIN Order_Details ON Orders.order_id = Order_Details.order_id\n",
        "GROUP BY Orders.order_id, Customers.customer_name;\n"
      ],
      "metadata": {
        "id": "soeCn8h0sQdU"
      },
      "execution_count": null,
      "outputs": []
    },
    {
      "cell_type": "markdown",
      "source": [
        "#SQL COMMANDS:"
      ],
      "metadata": {
        "id": "OLmd2DqGsWRb"
      }
    },
    {
      "cell_type": "markdown",
      "source": [
        "1.Identify the primary keys and foreign keys in maven movies db. Discuss the differences.\n",
        "\n",
        ".The primary key is a unique identifier within its table, whereas a foreign key is a reference in one table to a primary key in another. Primary keys enforce uniqueness within their table, ensuring each record is identifiable."
      ],
      "metadata": {
        "id": "RSFsIPRpse4l"
      }
    },
    {
      "cell_type": "markdown",
      "source": [
        "2. List all details of actors.\n",
        "\n",
        ".The SELECT statement is used to select data from a database."
      ],
      "metadata": {
        "id": "EJxHyQ0js4UT"
      }
    },
    {
      "cell_type": "markdown",
      "source": [
        "3. -List all customer information from DB.\n",
        "\n"
      ],
      "metadata": {
        "id": "qaaXXKtGt3Cz"
      }
    },
    {
      "cell_type": "code",
      "source": [
        "SELECT table_name FROM INFORMATION_SCHEMA. TABLES WHERE table_type = 'BASE TABLE' SELECT name FROM sys."
      ],
      "metadata": {
        "id": "97KlcQCWxXLi"
      },
      "execution_count": null,
      "outputs": []
    },
    {
      "cell_type": "markdown",
      "source": [
        "4. -List different countries\n",
        "\n",
        "\n"
      ],
      "metadata": {
        "id": "0K5PmPn0uYZF"
      }
    },
    {
      "cell_type": "code",
      "source": [
        "\n",
        "CREATE TABLE IF NOT EXISTS countries (\n",
        "CHECK(COUNTRY_NAME IN('Italy','India','China')) ,\n",
        "INSERT INTO countries(country_id,country_name,region_id) VALUES (1,'Italy','11572');\n",
        "INSERT INTO countries(country_id,country_name,region_id) VALUES (2,'India','11573');\n",
        "21 Sept 2021"
      ],
      "metadata": {
        "id": "5wquSiD2u2Xi"
      },
      "execution_count": null,
      "outputs": []
    },
    {
      "cell_type": "markdown",
      "source": [
        "5.Display all active customers.\n",
        "\n",
        ".The command is: SELECT user(); The output provides the information about the current user who is running that query. If you possess admin rights, you can observe the list of currently logged-in database users in MySQL or MariaDB by querying the information_schema."
      ],
      "metadata": {
        "id": "tROYVKpRu46R"
      }
    },
    {
      "cell_type": "markdown",
      "source": [
        "6. -List of all rental IDs for customer with ID 1.\n"
      ],
      "metadata": {
        "id": "ymhtrRWJvej8"
      }
    },
    {
      "cell_type": "code",
      "source": [
        "SELECT rental_id, car_id, customer_id, distance_km FROM Rentals WHERE EXTRACT(MONTH FROM rental_date) = 8 AND EXTRACT(YEAR FROM rental_date) = 2019 ORDER BY rental_id;"
      ],
      "metadata": {
        "id": "gumQhv96wPT-"
      },
      "execution_count": null,
      "outputs": []
    },
    {
      "cell_type": "markdown",
      "source": [
        "7. Display all the films whose rental duration is greater than 5\n",
        "\n"
      ],
      "metadata": {
        "id": "8Vn31ERiwV88"
      }
    },
    {
      "cell_type": "code",
      "source": [
        "SELECT *\n",
        "FROM film\n",
        "WHERE rental_duration > 5;\n"
      ],
      "metadata": {
        "id": "nIY3RGs1wpvy"
      },
      "execution_count": null,
      "outputs": []
    },
    {
      "cell_type": "markdown",
      "source": [
        "8. List the total number of films whose replacement cost is greater than $15 and less than $20.\n",
        "\n"
      ],
      "metadata": {
        "id": "yUDZ2ddJwrHk"
      }
    },
    {
      "cell_type": "code",
      "source": [
        "SELECT COUNT(*) AS total_films\n",
        "FROM film\n",
        "WHERE replacement_cost > 15 AND replacement_cost < 20;\n"
      ],
      "metadata": {
        "id": "haKTKF0uw293"
      },
      "execution_count": null,
      "outputs": []
    },
    {
      "cell_type": "markdown",
      "source": [
        "9. Display the count of unique first names of actors."
      ],
      "metadata": {
        "id": "CP3CCsntw81R"
      }
    },
    {
      "cell_type": "code",
      "source": [
        "SELECT COUNT(DISTINCT first_name) AS unique_first_names\n",
        "FROM actor;\n"
      ],
      "metadata": {
        "id": "SBuRZveVxDfz"
      },
      "execution_count": null,
      "outputs": []
    },
    {
      "cell_type": "markdown",
      "source": [
        "10.- Display the first 10 records from the customer table ."
      ],
      "metadata": {
        "id": "mfvptR5Wxfi0"
      }
    },
    {
      "cell_type": "code",
      "source": [
        "SELECT *\n",
        "FROM customer\n",
        "LIMIT 10;\n"
      ],
      "metadata": {
        "id": "buD74AnbxmbV"
      },
      "execution_count": null,
      "outputs": []
    },
    {
      "cell_type": "markdown",
      "source": [
        "11. Display the first 3 records from the customer table whose first name starts with ‘b’."
      ],
      "metadata": {
        "id": "3kYXWPjBxr06"
      }
    },
    {
      "cell_type": "code",
      "source": [
        "SELECT *\n",
        "FROM customer\n",
        "WHERE first_name LIKE 'B%'\n",
        "LIMIT 3;\n"
      ],
      "metadata": {
        "id": "xMDK3lJTx7Ac"
      },
      "execution_count": null,
      "outputs": []
    },
    {
      "cell_type": "markdown",
      "source": [
        "12.-Display the names of the first 5 movies which are rated as ‘G’."
      ],
      "metadata": {
        "id": "Un-KIOZQx8XD"
      }
    },
    {
      "cell_type": "code",
      "source": [
        "SELECT title\n",
        "FROM film\n",
        "WHERE rating = 'G'\n",
        "LIMIT 5;\n"
      ],
      "metadata": {
        "id": "CK91pQUTyCHK"
      },
      "execution_count": null,
      "outputs": []
    },
    {
      "cell_type": "markdown",
      "source": [
        "13.Find all customers whose first name starts with \"a\"."
      ],
      "metadata": {
        "id": "fiaLHR8XyHlh"
      }
    },
    {
      "cell_type": "code",
      "source": [
        "SELECT *\n",
        "FROM customer\n",
        "WHERE first_name LIKE 'A%';\n"
      ],
      "metadata": {
        "id": "AV6zvdZryMUm"
      },
      "execution_count": null,
      "outputs": []
    },
    {
      "cell_type": "markdown",
      "source": [
        "14. Find all customers whose first name ends with \"a\"."
      ],
      "metadata": {
        "id": "VcccQwCyyQAx"
      }
    },
    {
      "cell_type": "code",
      "source": [
        "SELECT *\n",
        "FROM customer\n",
        "WHERE first_name LIKE '%a';\n"
      ],
      "metadata": {
        "id": "3982CKmPyWyT"
      },
      "execution_count": null,
      "outputs": []
    },
    {
      "cell_type": "markdown",
      "source": [
        "15.- Display the list of first 4 cities which start and end with ‘a’ ."
      ],
      "metadata": {
        "id": "ZhFj4Shkyd8q"
      }
    },
    {
      "cell_type": "code",
      "source": [
        "SELECT city\n",
        "FROM city\n",
        "WHERE city LIKE 'A%a'\n",
        "LIMIT 4;\n"
      ],
      "metadata": {
        "id": "bqzgfCOwyjWL"
      },
      "execution_count": null,
      "outputs": []
    },
    {
      "cell_type": "markdown",
      "source": [
        "16. Find all customers whose first name have \"NI\" in any position."
      ],
      "metadata": {
        "id": "dLN-4HAHys81"
      }
    },
    {
      "cell_type": "code",
      "source": [
        "SELECT *\n",
        "FROM customer\n",
        "WHERE first_name LIKE '%NI%';\n"
      ],
      "metadata": {
        "id": "pFx0O08TyyFr"
      },
      "execution_count": null,
      "outputs": []
    },
    {
      "cell_type": "markdown",
      "source": [
        "17. Find all customers whose first name have \"r\" in the second position ."
      ],
      "metadata": {
        "id": "AcZ6c5Ujy290"
      }
    },
    {
      "cell_type": "code",
      "source": [
        "SELECT *\n",
        "FROM customer\n",
        "WHERE first_name LIKE '_r%';\n"
      ],
      "metadata": {
        "id": "4_HXFp4by7nZ"
      },
      "execution_count": null,
      "outputs": []
    },
    {
      "cell_type": "markdown",
      "source": [
        "18. Find all customers whose first name starts with \"a\" and are at least 5 characters in length."
      ],
      "metadata": {
        "id": "d0PTl89qy_ta"
      }
    },
    {
      "cell_type": "code",
      "source": [
        "SELECT *\n",
        "FROM customer\n",
        "WHERE first_name LIKE 'A%'\n",
        "AND LENGTH(first_name) >= 5;\n"
      ],
      "metadata": {
        "id": "R3UqwUK7zFhZ"
      },
      "execution_count": null,
      "outputs": []
    },
    {
      "cell_type": "markdown",
      "source": [
        "19.Find all customers whose first name starts with \"a\" and ends with \"o\"."
      ],
      "metadata": {
        "id": "uHJFLSQRzJ0D"
      }
    },
    {
      "cell_type": "code",
      "source": [
        "SELECT *\n",
        "FROM customer\n",
        "WHERE first_name LIKE 'A%o';\n"
      ],
      "metadata": {
        "id": "ce1LZsKszOKr"
      },
      "execution_count": null,
      "outputs": []
    },
    {
      "cell_type": "markdown",
      "source": [
        "20.Get the films with pg and pg-13 rating using IN operator."
      ],
      "metadata": {
        "id": "EXEMwdYYzTlB"
      }
    },
    {
      "cell_type": "code",
      "source": [
        "SELECT *\n",
        "FROM film\n",
        "WHERE rating IN ('PG', 'PG-13');\n"
      ],
      "metadata": {
        "id": "JYXRDDjzzZcZ"
      },
      "execution_count": null,
      "outputs": []
    },
    {
      "cell_type": "markdown",
      "source": [
        "21.- Get the films with length between 50 to 100 using between operator."
      ],
      "metadata": {
        "id": "PsLeOw4Dzesa"
      }
    },
    {
      "cell_type": "code",
      "source": [
        "SELECT *\n",
        "FROM film\n",
        "WHERE length BETWEEN 50 AND 100;\n"
      ],
      "metadata": {
        "id": "trNYZ-c4zjZt"
      },
      "execution_count": null,
      "outputs": []
    },
    {
      "cell_type": "markdown",
      "source": [
        "22.Get the top 50 actors using limit operator."
      ],
      "metadata": {
        "id": "JcdesUc5znb8"
      }
    },
    {
      "cell_type": "code",
      "source": [
        "SELECT *\n",
        "FROM actor\n",
        "LIMIT 50;\n"
      ],
      "metadata": {
        "id": "FrxqEVeAzsSD"
      },
      "execution_count": null,
      "outputs": []
    },
    {
      "cell_type": "markdown",
      "source": [
        "23.Get the distinct film ids from inventory table"
      ],
      "metadata": {
        "id": "fUdiAW9Gzwu8"
      }
    },
    {
      "cell_type": "code",
      "source": [
        "SELECT DISTINCT film_id\n",
        "FROM inventory;\n"
      ],
      "metadata": {
        "id": "Dmx1IHxaz1kJ"
      },
      "execution_count": null,
      "outputs": []
    },
    {
      "cell_type": "markdown",
      "source": [
        "#FUNCTIONS:"
      ],
      "metadata": {
        "id": "K3FZuS5yz9jK"
      }
    },
    {
      "cell_type": "markdown",
      "source": [
        "# Basic Aggregate Functions:"
      ],
      "metadata": {
        "id": "dUmLxwIU0H5d"
      }
    },
    {
      "cell_type": "markdown",
      "source": [
        "Q1.Retrieve the total number of rentals made in the Sakila database.\n",
        "\n",
        "Hint: Use the COUNT() function.\n",
        "\n",
        "\n",
        "."
      ],
      "metadata": {
        "id": "NDYKyYlT0OxW"
      }
    },
    {
      "cell_type": "code",
      "source": [
        "SELECT COUNT(*) AS total_rentals\n",
        "FROM rental;\n"
      ],
      "metadata": {
        "id": "BLiGLWoG0jNp"
      },
      "execution_count": null,
      "outputs": []
    },
    {
      "cell_type": "markdown",
      "source": [
        "Q2.Find the average rental duration (in days) of movies rented from the Sakila database.\n",
        "\n",
        "Hint: Utilize the AVG() function.\n",
        "\n"
      ],
      "metadata": {
        "id": "neIE9hOG0mlx"
      }
    },
    {
      "cell_type": "code",
      "source": [
        "SELECT AVG(rental_duration) AS average_rental_duration\n",
        "FROM film;\n"
      ],
      "metadata": {
        "id": "_Adx3ciW0tDx"
      },
      "execution_count": null,
      "outputs": []
    },
    {
      "cell_type": "markdown",
      "source": [
        "Q3.Display the first name and last name of customers in uppercase.\n",
        "\n",
        "Hint: Use the UPPER () function.\n"
      ],
      "metadata": {
        "id": "z_mEobfp0_pF"
      }
    },
    {
      "cell_type": "code",
      "source": [
        "SELECT UPPER(first_name) AS first_name_upper,\n",
        "       UPPER(last_name) AS last_name_upper\n",
        "FROM customer;\n"
      ],
      "metadata": {
        "id": "KiU9hy8c1Fl8"
      },
      "execution_count": null,
      "outputs": []
    },
    {
      "cell_type": "markdown",
      "source": [
        "Q4.Extract the month from the rental date and display it alongside the rental ID.\n",
        "\n",
        "Hint: Employ the MONTH() function.\n"
      ],
      "metadata": {
        "id": "ofrxr6CW1Kly"
      }
    },
    {
      "cell_type": "code",
      "source": [
        "SELECT rental_id, MONTH(rental_date) AS rental_month\n",
        "FROM rental;\n"
      ],
      "metadata": {
        "id": "xAD4OS_Q1Qru"
      },
      "execution_count": null,
      "outputs": []
    },
    {
      "cell_type": "markdown",
      "source": [
        "Q5.Retrieve the count of rentals for each customer (display customer ID and the count of rentals).\n",
        "\n",
        "Hint: Use COUNT () in conjunction with GROUP BY.\n"
      ],
      "metadata": {
        "id": "UDUOZigW1XFN"
      }
    },
    {
      "cell_type": "code",
      "source": [
        "SELECT customer_id, COUNT(*) AS rental_count\n",
        "FROM rental\n",
        "GROUP BY customer_id;\n"
      ],
      "metadata": {
        "id": "hrDmMkEu1eFb"
      },
      "execution_count": null,
      "outputs": []
    },
    {
      "cell_type": "markdown",
      "source": [
        "Q6.Find the total revenue generated by each store.\n",
        "\n",
        "Hint: Combine SUM() and GROUP BY."
      ],
      "metadata": {
        "id": "UfANtKn71jRq"
      }
    },
    {
      "cell_type": "code",
      "source": [
        "SELECT s.store_id, SUM(p.amount) AS total_revenue\n",
        "FROM payment p\n",
        "JOIN customer c ON p.customer_id = c.customer_id\n",
        "JOIN store s ON c.store_id = s.store_id\n",
        "GROUP BY s.store_id;\n"
      ],
      "metadata": {
        "id": "u3YPQvZ11nzz"
      },
      "execution_count": null,
      "outputs": []
    },
    {
      "cell_type": "markdown",
      "source": [
        "Q7.Determine the total number of rentals for each category of movies.\n",
        "\n",
        "Hint: JOIN film_category, film, and rental tables, then use cOUNT () and GROUP BY."
      ],
      "metadata": {
        "id": "DQVkHtfz1sVK"
      }
    },
    {
      "cell_type": "code",
      "source": [
        "SELECT c.name AS category_name, COUNT(r.rental_id) AS total_rentals\n",
        "FROM rental r\n",
        "JOIN inventory i ON r.inventory_id = i.inventory_id\n",
        "JOIN film f ON i.film_id = f.film_id\n",
        "JOIN film_category fc ON f.film_id = fc.film_id\n",
        "JOIN category c ON fc.category_id = c.category_id\n",
        "GROUP BY c.name;\n"
      ],
      "metadata": {
        "id": "s6uA9s5x1xk8"
      },
      "execution_count": null,
      "outputs": []
    },
    {
      "cell_type": "markdown",
      "source": [
        "Q8.Find the average rental rate of movies in each language.\n",
        "\n",
        "Hint: JOIN film and language tables, then use AVG () and GROUP BY."
      ],
      "metadata": {
        "id": "zWlUQspu12lb"
      }
    },
    {
      "cell_type": "code",
      "source": [
        "SELECT l.name AS language_name, AVG(f.rental_rate) AS average_rental_rate\n",
        "FROM film f\n",
        "JOIN language l ON f.language_id = l.language_id\n",
        "GROUP BY l.name;\n"
      ],
      "metadata": {
        "id": "dNilIYNe18fU"
      },
      "execution_count": null,
      "outputs": []
    },
    {
      "cell_type": "markdown",
      "source": [
        "Q9.Display the title of the movie, customer s first name, and last name who rented it.\n",
        "\n",
        "Hint: Use JOIN between the film, inventory, rental, and customer tables.\n",
        "\n",
        "\n",
        "\n"
      ],
      "metadata": {
        "id": "-7iOIeY_2BPj"
      }
    },
    {
      "cell_type": "code",
      "source": [
        "SELECT f.title AS movie_title, c.first_name, c.last_name\n",
        "FROM rental r\n",
        "JOIN inventory i ON r.inventory_id = i.inventory_id\n",
        "JOIN film f ON i.film_id = f.film_id\n",
        "JOIN customer c ON r.customer_id = c.customer_id;\n"
      ],
      "metadata": {
        "id": "PoJ8A5A22HXT"
      },
      "execution_count": null,
      "outputs": []
    },
    {
      "cell_type": "markdown",
      "source": [
        "Q10.Retrieve the names of all actors who have appeared in the film \"Gone with the Wind.\"\n",
        "\n",
        "Hint: Use JOIN between the film actor, film, and actor tables."
      ],
      "metadata": {
        "id": "6fFdk79s2MFV"
      }
    },
    {
      "cell_type": "code",
      "source": [
        "SELECT a.first_name, a.last_name\n",
        "FROM actor a\n",
        "JOIN film_actor fa ON a.actor_id = fa.actor_id\n",
        "JOIN film f ON fa.film_id = f.film_id\n",
        "WHERE f.title = 'Gone with the Wind';\n"
      ],
      "metadata": {
        "id": "XgEa3HLe2QgL"
      },
      "execution_count": null,
      "outputs": []
    },
    {
      "cell_type": "markdown",
      "source": [
        "Q11.Retrieve the customer names along with the total amount they've spent on rentals.\n",
        "\n",
        "Hint: JOIN customer, payment, and rental tables, then use SUM() and GROUP BY."
      ],
      "metadata": {
        "id": "WqcuH9Pg2Ujk"
      }
    },
    {
      "cell_type": "code",
      "source": [
        "SELECT c.first_name, c.last_name, SUM(p.amount) AS total_amount_spent\n",
        "FROM customer c\n",
        "JOIN payment p ON c.customer_id = p.customer_id\n",
        "GROUP BY c.first_name, c.last_name\n",
        "ORDER BY total_amount_spent DESC;\n"
      ],
      "metadata": {
        "id": "2p20_4V82bIz"
      },
      "execution_count": null,
      "outputs": []
    },
    {
      "cell_type": "markdown",
      "source": [
        "Q12.List the titles of movies rented by each customer in a particular city (e.g., 'London').\n",
        "\n",
        "Hint: JOIN customer, address, city, rental, inventory, and film tables, then use GROUP BY."
      ],
      "metadata": {
        "id": "RkgkVVO12gPq"
      }
    },
    {
      "cell_type": "code",
      "source": [
        "SELECT c.first_name, c.last_name, ci.city, f.title AS movie_title\n",
        "FROM customer c\n",
        "JOIN address a ON c.address_id = a.address_id\n",
        "JOIN city ci ON a.city_id = ci.city_id\n",
        "JOIN rental r ON c.customer_id = r.customer_id\n",
        "JOIN inventory i ON r.inventory_id = i.inventory_id\n",
        "JOIN film f ON i.film_id = f.film_id\n",
        "WHERE ci.city = 'London'\n",
        "ORDER BY c.last_name, c.first_name, f.title;\n"
      ],
      "metadata": {
        "id": "6aM0N4Ab2nCa"
      },
      "execution_count": null,
      "outputs": []
    },
    {
      "cell_type": "markdown",
      "source": [
        "Q13.Display the top 5 rented movies along with the number of times they've been rented.\n",
        "\n",
        "Hint: JOIN film, inventory, and rental tables, then use COUNT () and GROUP BY, and limit the results."
      ],
      "metadata": {
        "id": "4b0vMbLV22SW"
      }
    },
    {
      "cell_type": "code",
      "source": [
        "SELECT f.title AS movie_title, COUNT(r.rental_id) AS rental_count\n",
        "FROM rental r\n",
        "JOIN inventory i ON r.inventory_id = i.inventory_id\n",
        "JOIN film f ON i.film_id = f.film_id\n",
        "GROUP BY f.title\n",
        "ORDER BY rental_count DESC\n",
        "LIMIT 5;\n"
      ],
      "metadata": {
        "id": "dV6paq0_262U"
      },
      "execution_count": null,
      "outputs": []
    },
    {
      "cell_type": "markdown",
      "source": [
        "Q14.Determine the customers who have rented movies from both stores (store ID 1 and store ID 2).\n",
        "\n",
        "Hint: Use JOINS with rental, inventory, and customer tables and consider COUNT() and GROUP BY."
      ],
      "metadata": {
        "id": "TKoYMXk53Cdq"
      }
    },
    {
      "cell_type": "code",
      "source": [
        "SELECT c.customer_id, c.first_name, c.last_name\n",
        "FROM rental r\n",
        "JOIN inventory i ON r.inventory_id = i.inventory_id\n",
        "JOIN store s ON i.store_id = s.store_id\n",
        "JOIN customer c ON r.customer_id = c.customer_id\n",
        "WHERE s.store_id IN (1, 2)\n",
        "GROUP BY c.customer_id, c.first_name, c.last_name\n",
        "HAVING COUNT(DISTINCT s.store_id) = 2;\n"
      ],
      "metadata": {
        "id": "KHPcHzJ13ME0"
      },
      "execution_count": null,
      "outputs": []
    },
    {
      "cell_type": "markdown",
      "source": [
        "#WINDOWS FUNCTION:"
      ],
      "metadata": {
        "id": "nwIlVz_n3SSc"
      }
    },
    {
      "cell_type": "markdown",
      "source": [
        "1.1. Rank the customers based on the total amount they've spent on rentals."
      ],
      "metadata": {
        "id": "FgiXfUe03cb8"
      }
    },
    {
      "cell_type": "code",
      "source": [
        "SELECT c.customer_id, c.first_name, c.last_name,\n",
        "       SUM(p.amount) AS total_amount_spent,\n",
        "       RANK() OVER (ORDER BY SUM(p.amount) DESC) AS rank\n",
        "FROM customer c\n",
        "JOIN payment p ON c.customer_id = p.customer_id\n",
        "GROUP BY c.customer_id, c.first_name, c.last_name\n",
        "ORDER BY total_amount_spent DESC;\n"
      ],
      "metadata": {
        "id": "QUg31U-m3nd5"
      },
      "execution_count": null,
      "outputs": []
    },
    {
      "cell_type": "markdown",
      "source": [
        "2.Calculate the cumulative revenue generated by each film over time."
      ],
      "metadata": {
        "id": "K8L-IQd73raG"
      }
    },
    {
      "cell_type": "code",
      "source": [
        "SELECT f.title AS movie_title, p.payment_date,\n",
        "       SUM(p.amount) OVER (PARTITION BY f.film_id ORDER BY p.payment_date) AS cumulative_revenue\n",
        "FROM payment p\n",
        "JOIN rental r ON p.rental_id = r.rental_id\n",
        "JOIN inventory i ON r.inventory_id = i.inventory_id\n",
        "JOIN film f ON i.film_id = f.film_id\n",
        "ORDER BY f.title, p.payment_date;\n"
      ],
      "metadata": {
        "id": "aIgg1ZSM3vnV"
      },
      "execution_count": null,
      "outputs": []
    },
    {
      "cell_type": "markdown",
      "source": [
        "3.Determine the average rental duration for each film, considering films with similar lengths"
      ],
      "metadata": {
        "id": "rGbCtyxI31r-"
      }
    },
    {
      "cell_type": "code",
      "source": [
        "SELECT f.length AS film_length,\n",
        "       f.title AS movie_title,\n",
        "       AVG(f.rental_duration) AS avg_rental_duration\n",
        "FROM film f\n",
        "GROUP BY f.length, f.title\n",
        "ORDER BY f.length, avg_rental_duration DESC;\n"
      ],
      "metadata": {
        "id": "VpDIfAYr36Nx"
      },
      "execution_count": null,
      "outputs": []
    },
    {
      "cell_type": "markdown",
      "source": [
        "4.. Identify the top 3 films in each category based on their rental counts."
      ],
      "metadata": {
        "id": "kGPJ5py03_D8"
      }
    },
    {
      "cell_type": "code",
      "source": [
        "WITH FilmRentalCounts AS (\n",
        "    SELECT fc.category_id, c.name AS category_name, f.title AS movie_title,\n",
        "           COUNT(r.rental_id) AS rental_count,\n",
        "           RANK() OVER (PARTITION BY fc.category_id ORDER BY COUNT(r.rental_id) DESC) AS rank\n",
        "    FROM rental r\n",
        "    JOIN inventory i ON r.inventory_id = i.inventory_id\n",
        "    JOIN film f ON i.film_id = f.film_id\n",
        "    JOIN film_category fc ON f.film_id = fc.film_id\n",
        "    JOIN category c ON fc.category_id = c.category_id\n",
        "    GROUP BY fc.category_id, c.name, f.title\n",
        ")\n",
        "SELECT category_name, movie_title, rental_count, rank\n",
        "FROM FilmRentalCounts\n",
        "WHERE rank <= 3\n",
        "ORDER BY category_name, rank;\n"
      ],
      "metadata": {
        "id": "S5prZ3X-4DQy"
      },
      "execution_count": null,
      "outputs": []
    },
    {
      "cell_type": "markdown",
      "source": [
        "5.Calculate the difference in rental counts between each customer's total rentals and the average rentals\n",
        "\n",
        "across all customers."
      ],
      "metadata": {
        "id": "T9eZuXUw4O5z"
      }
    },
    {
      "cell_type": "code",
      "source": [
        "WITH CustomerRentalCounts AS (\n",
        "    SELECT c.customer_id, c.first_name, c.last_name,\n",
        "           COUNT(r.rental_id) AS total_rentals\n",
        "    FROM customer c\n",
        "    JOIN rental r ON c.customer_id = r.customer_id\n",
        "    GROUP BY c.customer_id, c.first_name, c.last_name\n",
        "),\n",
        "AverageRentals AS (\n",
        "    SELECT AVG(total_rentals) AS avg_rentals\n",
        "    FROM CustomerRentalCounts\n",
        ")\n",
        "SELECT c.customer_id, c.first_name, c.last_name,\n",
        "       c.total_rentals,\n",
        "       a.avg_rentals,\n",
        "       (c.total_rentals - a.avg_rentals) AS rental_difference\n",
        "FROM CustomerRentalCounts c\n",
        "JOIN AverageRentals a\n",
        "ORDER BY rental_difference DESC;\n"
      ],
      "metadata": {
        "id": "L4j8OVas4TlB"
      },
      "execution_count": null,
      "outputs": []
    },
    {
      "cell_type": "markdown",
      "source": [
        "6.. Find the monthly revenue trend for the entire rental store over time."
      ],
      "metadata": {
        "id": "90Iivd2T4ZHs"
      }
    },
    {
      "cell_type": "code",
      "source": [
        "SELECT DATE_FORMAT(p.payment_date, '%Y-%m') AS month,\n",
        "       SUM(p.amount) AS total_revenue\n",
        "FROM payment p\n",
        "GROUP BY month\n",
        "ORDER BY month;\n"
      ],
      "metadata": {
        "id": "9ISZ94wC4dtz"
      },
      "execution_count": null,
      "outputs": []
    },
    {
      "cell_type": "markdown",
      "source": [
        "7.. Identify the customers whose total spending on rentals falls within the top 20% of all customers."
      ],
      "metadata": {
        "id": "ifM65yLg4l_c"
      }
    },
    {
      "cell_type": "code",
      "source": [
        "WITH CustomerSpending AS (\n",
        "    SELECT c.customer_id, c.first_name, c.last_name,\n",
        "           SUM(p.amount) AS total_spent\n",
        "    FROM customer c\n",
        "    JOIN payment p ON c.customer_id = p.customer_id\n",
        "    GROUP BY c.customer_id, c.first_name, c.last_name\n",
        "),\n",
        "SpendingPercentiles AS (\n",
        "    SELECT total_spent,\n",
        "           NTILE(5) OVER (ORDER BY total_spent DESC) AS percentile\n",
        "    FROM CustomerSpending\n",
        ")\n",
        "SELECT cs.customer_id, cs.first_name, cs.last_name, cs.total_spent\n",
        "FROM CustomerSpending cs\n",
        "JOIN SpendingPercentiles sp ON cs.total_spent = sp.total_spent\n",
        "WHERE sp.percentile = 1\n",
        "ORDER BY cs.total_spent DESC;\n"
      ],
      "metadata": {
        "id": "SoQbVukT4uHE"
      },
      "execution_count": null,
      "outputs": []
    },
    {
      "cell_type": "markdown",
      "source": [
        "8.Calculate the running total of rentals per category, ordered by rental count."
      ],
      "metadata": {
        "id": "A3dNGTQI4zv3"
      }
    },
    {
      "cell_type": "code",
      "source": [
        "WITH CategoryRentalCounts AS (\n",
        "    SELECT c.category_id, c.name AS category_name,\n",
        "           COUNT(r.rental_id) AS total_rentals\n",
        "    FROM rental r\n",
        "    JOIN inventory i ON r.inventory_id = i.inventory_id\n",
        "    JOIN film f ON i.film_id = f.film_id\n",
        "    JOIN film_category fc ON f.film_id = fc.film_id\n",
        "    JOIN category c ON fc.category_id = c.category_id\n",
        "    GROUP BY c.category_id, c.name\n",
        ")\n",
        "SELECT category_name, total_rentals,\n",
        "       SUM(total_rentals) OVER (ORDER BY total_rentals DESC) AS running_total\n",
        "FROM CategoryRentalCounts\n",
        "ORDER BY total_rentals DESC;\n"
      ],
      "metadata": {
        "id": "Xxzw04Uc44xq"
      },
      "execution_count": null,
      "outputs": []
    },
    {
      "cell_type": "markdown",
      "source": [
        "9.Find the films that have been rented less than the average rental count for their respective categories."
      ],
      "metadata": {
        "id": "eAEVANnI496i"
      }
    },
    {
      "cell_type": "code",
      "source": [
        "WITH CategoryAverageRentals AS (\n",
        "    SELECT fc.category_id, c.name AS category_name,\n",
        "           AVG(rental_count) AS avg_rentals_per_category\n",
        "    FROM (\n",
        "        SELECT f.film_id, fc.category_id, COUNT(r.rental_id) AS rental_count\n",
        "        FROM rental r\n",
        "        JOIN inventory i ON r.inventory_id = i.inventory_id\n",
        "        JOIN film f ON i.film_id = f.film_id\n",
        "        JOIN film_category fc ON f.film_id = fc.film_id\n",
        "        GROUP BY f.film_id, fc.category_id\n",
        "    ) FilmRentalCounts\n",
        "    JOIN category c ON FilmRentalCounts.category_id = c.category_id\n",
        "    GROUP BY fc.category_id, c.name\n",
        ")\n",
        "SELECT f.title AS movie_title, c.name AS category_name,\n",
        "       COUNT(r.rental_id) AS film_rental_count, avg_r.avg_rentals_per_category\n",
        "FROM rental r\n",
        "JOIN inventory i ON r.inventory_id = i.inventory_id\n",
        "JOIN film f ON i.film_id = f.film_id\n",
        "JOIN film_category fc ON f.film_id = fc.film_id\n",
        "JOIN category c ON fc.category_id = c.category_id\n",
        "JOIN CategoryAverageRentals avg_r ON fc.category_id = avg_r.category_id\n",
        "GROUP BY f.film_id, f.title, c.name, avg_r.avg_rentals_per_category\n",
        "HAVING COUNT(r.rental_id) < avg_r.avg_rentals_per_category\n",
        "ORDER BY category_name, film_rental_count ASC;\n"
      ],
      "metadata": {
        "id": "z0-28Kvc5D86"
      },
      "execution_count": null,
      "outputs": []
    },
    {
      "cell_type": "markdown",
      "source": [
        "10. Identify the top 5 months with the highest revenue and display the revenue generated in each month."
      ],
      "metadata": {
        "id": "oN7r8QSZ5I7U"
      }
    },
    {
      "cell_type": "code",
      "source": [
        "SELECT DATE_FORMAT(p.payment_date, '%Y-%m') AS month,\n",
        "       SUM(p.amount) AS total_revenue\n",
        "FROM payment p\n",
        "GROUP BY month\n",
        "ORDER BY total_revenue DESC\n",
        "LIMIT 5;\n"
      ],
      "metadata": {
        "id": "C_ypD4S-5Sbi"
      },
      "execution_count": null,
      "outputs": []
    }
  ]
}